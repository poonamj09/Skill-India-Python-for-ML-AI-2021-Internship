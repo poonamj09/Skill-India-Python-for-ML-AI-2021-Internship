{
  "nbformat": 4,
  "nbformat_minor": 0,
  "metadata": {
    "colab": {
      "name": "Adding new product.ipynb",
      "provenance": [],
      "collapsed_sections": []
    },
    "kernelspec": {
      "display_name": "Python 3",
      "name": "python3"
    },
    "language_info": {
      "name": "python"
    }
  },
  "cells": [
    {
      "cell_type": "code",
      "metadata": {
        "id": "FtnCo1ZTfE5g"
      },
      "source": [
        "# record = { 1001: {\"name\": \"Pen\" ,               \"pr\":25 ,    \"qn\" : 100 ,     \"category\" :\"Stationary\"},\n",
        "#            1002: {\"name\": \"Notebook\" ,          \"pr\":70 ,    \"qn\" : 108 ,     \"category\" :\"Stationary\"},\n",
        "#            1003: {\"name\": \"Scissor\" ,           \"pr\":120 ,   \"qn\" : 35 ,      \"category\" :\"Stationary\"},\n",
        "#            1004: {\"name\": \"Highlighter\"  ,      \"pr\":50,     \"qn\" : 60 ,      \"category\" :\"Stationary\"},\n",
        "#            1005: {\"name\": \"Paperclips\"  ,       \"pr\":10 ,    \"qn\" : 150 ,     \"category\" :\"Stationary\"},\n",
        "#            1006: {\"name\": \"Marker\" ,            \"pr\":85 ,    \"qn\" : 90 ,      \"category\" :\"Stationary\"},\n",
        "#           }\n",
        "           "
      ],
      "execution_count": null,
      "outputs": []
    },
    {
      "cell_type": "code",
      "metadata": {
        "id": "RgQdEdzv-C0e"
      },
      "source": [
        ""
      ],
      "execution_count": null,
      "outputs": []
    },
    {
      "cell_type": "code",
      "metadata": {
        "id": "V_MCy2GVvFog"
      },
      "source": [
        "#record"
      ],
      "execution_count": null,
      "outputs": []
    },
    {
      "cell_type": "code",
      "metadata": {
        "id": "7BZMyKlas4ut"
      },
      "source": [
        "import json"
      ],
      "execution_count": null,
      "outputs": []
    },
    {
      "cell_type": "code",
      "metadata": {
        "id": "EPqh2kGQs5i_"
      },
      "source": [
        "#js = json.dumps(record)"
      ],
      "execution_count": null,
      "outputs": []
    },
    {
      "cell_type": "code",
      "metadata": {
        "id": "CkdW15xevNVR"
      },
      "source": [
        "#js"
      ],
      "execution_count": null,
      "outputs": []
    },
    {
      "cell_type": "code",
      "metadata": {
        "id": "jUTDd7v-twAv"
      },
      "source": [
        "#fd = open(\"record.json\",'w')\n",
        "\n",
        "#fd.write(js)\n",
        "\n",
        "#fd.close()"
      ],
      "execution_count": null,
      "outputs": []
    },
    {
      "cell_type": "markdown",
      "metadata": {
        "id": "ZMv2of5ouuYX"
      },
      "source": [
        "### ***Read Data From Jason***"
      ]
    },
    {
      "cell_type": "code",
      "metadata": {
        "id": "oeSwIpxtvDdH"
      },
      "source": [
        "fd = open(\"record.json\",'r')\n",
        "rec = fd.read()\n",
        "fd.close()\n",
        "\n",
        "record = json.loads(rec)"
      ],
      "execution_count": 25,
      "outputs": []
    },
    {
      "cell_type": "code",
      "metadata": {
        "colab": {
          "base_uri": "https://localhost:8080/"
        },
        "id": "vGXieuVXt-4R",
        "outputId": "b3dc6e60-dd64-4a4a-c5fa-81f6b72d9117"
      },
      "source": [
        "record"
      ],
      "execution_count": 26,
      "outputs": [
        {
          "output_type": "execute_result",
          "data": {
            "text/plain": [
              "{'1001': {'category': 'Stationary', 'name': 'Pen', 'pr': 25, 'qn': 230},\n",
              " '1002': {'category': 'Stationary', 'name': 'Notebook', 'pr': 70, 'qn': 108},\n",
              " '1003': {'category': 'Stationary', 'name': 'Scissor', 'pr': 120, 'qn': 35},\n",
              " '1004': {'category': 'Stationary', 'name': 'Highlighter', 'pr': 50, 'qn': 60},\n",
              " '1005': {'category': 'Stationary', 'name': 'Paperclips', 'pr': 10, 'qn': 150},\n",
              " '1006': {'category': 'Stationary', 'name': 'Marker', 'pr': 85, 'qn': 90},\n",
              " '1007': {'category': 'Stationary', 'name': 'Folders', 'pr': 250, 'qn': 95},\n",
              " '1008': {'category': 'Stationary', 'name': 'Stapler', 'pr': 160, 'qn': 55},\n",
              " '1009': {'category': 'Stationary', 'name': 'Pencil', 'pr': 10, 'qn': 50},\n",
              " '1010': {'category': 'Stationary',\n",
              "  'name': 'Color Pencil',\n",
              "  'pr': 85,\n",
              "  'qn': 205},\n",
              " '1011': {'category': ' Cosmetic', 'name': 'Nailpaint', 'pr': 155, 'qn': 72}}"
            ]
          },
          "metadata": {},
          "execution_count": 26
        }
      ]
    },
    {
      "cell_type": "markdown",
      "metadata": {
        "id": "xuj2Su_hz9Ex"
      },
      "source": [
        "### ***Add New Item into Inventory***"
      ]
    },
    {
      "cell_type": "code",
      "metadata": {
        "id": "bYcF6tM8KpJU"
      },
      "source": [
        "import time\n",
        "t = time.ctime()"
      ],
      "execution_count": 27,
      "outputs": []
    },
    {
      "cell_type": "code",
      "metadata": {
        "colab": {
          "base_uri": "https://localhost:8080/"
        },
        "id": "09b0plC1yshR",
        "outputId": "7c4cf127-d222-43e9-ba96-eed53ab61b5c"
      },
      "source": [
        "prod_id = str(input(\"Enter Product Id:\"))\n",
        "qn = int(input(\"Enter Quantity:\"))\n",
        "\n",
        "if (prod_id in record.keys()) :\n",
        "      print(\"Product Alredy Exist\")\n",
        "      tp=record[prod_id]['qn']\n",
        "      record[prod_id]['qn']= record[prod_id]['qn'] + qn\n",
        "      print(\"time:\",t)\n",
        "      print(\"Quantity Of\",record[prod_id]['name'],\"is now\",tp,\"+\",qn,\"=\",record[prod_id]['qn'])\n",
        "    \n",
        "else: \n",
        "      name = str(input(\"Enter Product Name:\"))\n",
        "      pr = int(input(\"Enter Price:\"))\n",
        "      cat= str(input(\"Enter Product Category:\"))\n",
        "\n",
        "      record[prod_id] = {'name': name, 'pr': pr, 'qn': qn, 'category': cat}\n",
        "      print(\"Time:\",t)\n",
        "      print(\"New Product Added\")\n",
        "\n"
      ],
      "execution_count": 113,
      "outputs": [
        {
          "output_type": "stream",
          "name": "stdout",
          "text": [
            "Enter Product Id:1032\n",
            "Enter Quantity:25\n",
            "Product Alredy Exist\n",
            "time: Mon Sep  6 05:27:33 2021\n",
            "Quantity Of Crayons is now 35 + 25 = 60\n"
          ]
        }
      ]
    },
    {
      "cell_type": "code",
      "metadata": {
        "id": "lo66h8nt1gki",
        "colab": {
          "base_uri": "https://localhost:8080/"
        },
        "outputId": "01f69c2d-8315-46e0-f025-0c45efda7ed1"
      },
      "source": [
        "jsn = json.dumps(record)\n",
        "\n",
        "fd = open(\"record.json\",'w')\n",
        "fd.write(jsn)\n",
        "fd.close()\n",
        "print(\"Product details in Record file updated\")"
      ],
      "execution_count": 114,
      "outputs": [
        {
          "output_type": "stream",
          "name": "stdout",
          "text": [
            "Product details in Record file updated\n"
          ]
        }
      ]
    },
    {
      "cell_type": "code",
      "metadata": {
        "id": "toT3zwp63NJi",
        "colab": {
          "base_uri": "https://localhost:8080/"
        },
        "outputId": "4899f05a-0c06-4506-c637-d15e53d7a13f"
      },
      "source": [
        "record"
      ],
      "execution_count": 115,
      "outputs": [
        {
          "output_type": "execute_result",
          "data": {
            "text/plain": [
              "{'1001': {'category': 'Stationary', 'name': 'Pen', 'pr': 25, 'qn': 265},\n",
              " '1002': {'category': 'Stationary', 'name': 'Notebook', 'pr': 70, 'qn': 108},\n",
              " '1003': {'category': 'Stationary', 'name': 'Scissor', 'pr': 120, 'qn': 35},\n",
              " '1004': {'category': 'Stationary', 'name': 'Highlighter', 'pr': 50, 'qn': 60},\n",
              " '1005': {'category': 'Stationary', 'name': 'Paperclips', 'pr': 10, 'qn': 150},\n",
              " '1006': {'category': 'Stationary', 'name': 'Marker', 'pr': 85, 'qn': 90},\n",
              " '1007': {'category': 'Stationary', 'name': 'Folders', 'pr': 250, 'qn': 95},\n",
              " '1008': {'category': 'Stationary', 'name': 'Stapler', 'pr': 160, 'qn': 55},\n",
              " '1009': {'category': 'Stationary', 'name': 'Pencil', 'pr': 10, 'qn': 50},\n",
              " '1010': {'category': 'Stationary',\n",
              "  'name': 'Color Pencil',\n",
              "  'pr': 85,\n",
              "  'qn': 205},\n",
              " '1011': {'category': ' Cosmetic', 'name': 'Nailpaint', 'pr': 155, 'qn': 72},\n",
              " '1012': {'category': 'Cosmetic', 'name': 'Lipstick', 'pr': 250, 'qn': 60},\n",
              " '1013': {'category': 'Cosmetic',\n",
              "  'name': 'Compact Powder',\n",
              "  'pr': 269,\n",
              "  'qn': 85},\n",
              " '1014': {'category': 'Cosmetic', 'name': 'Kajal stick', 'pr': 279, 'qn': 66},\n",
              " '1015': {'category': 'Cosmetic', 'name': 'Maskara', 'pr': 489, 'qn': 75},\n",
              " '1016': {'category': 'Cosmetic', 'name': 'Eye liner', 'pr': 350, 'qn': 99},\n",
              " '1017': {'category': 'Cosmetic', 'name': 'Primer', 'pr': 680, 'qn': 25},\n",
              " '1018': {'category': 'Cosmetic', 'name': 'CC cream', 'pr': 390, 'qn': 45},\n",
              " '1019': {'category': 'Skincare', 'name': 'Moisturizer', 'pr': 650, 'qn': 25},\n",
              " '1020': {'category': 'Cosmetic', 'name': 'Concealer', 'pr': 310, 'qn': 65},\n",
              " '1021': {'category': 'Cosmetic',\n",
              "  'name': 'eyeshadhow pallate',\n",
              "  'pr': 1200,\n",
              "  'qn': 35},\n",
              " '1022': {'category': 'Hair Care', 'name': 'Shampoo', 'pr': 650, 'qn': 28},\n",
              " '1023': {'category': 'Hair care', 'name': 'Hair Serum', 'pr': 799, 'qn': 26},\n",
              " '1024': {'category': 'Skincare', 'name': 'Facewash', 'pr': 289, 'qn': 65},\n",
              " '1025': {'category': 'Skincare', 'name': 'Body Wash', 'pr': 500, 'qn': 64},\n",
              " '1026': {'category': 'Skincare', 'name': 'Face Mask', 'pr': 260, 'qn': 62},\n",
              " '1027': {'category': 'Baby Products',\n",
              "  'name': 'BabyLotion',\n",
              "  'pr': 625,\n",
              "  'qn': 100},\n",
              " '1028': {'category': 'Baby Products',\n",
              "  'name': 'Baby Shampoo',\n",
              "  'pr': 850,\n",
              "  'qn': 52},\n",
              " '1029': {'category': 'Baby Products',\n",
              "  'name': 'Baby Wash',\n",
              "  'pr': 658,\n",
              "  'qn': 29},\n",
              " '1030': {'category': 'Skincare',\n",
              "  'name': 'Sunscreen lotion',\n",
              "  'pr': 950,\n",
              "  'qn': 24},\n",
              " '1031': {'category': 'Stationary',\n",
              "  'name': 'Fabric Glue ',\n",
              "  'pr': 45,\n",
              "  'qn': 52},\n",
              " '1032': {'category': 'Stationary', 'name': 'Crayons', 'pr': 65, 'qn': 60}}"
            ]
          },
          "metadata": {},
          "execution_count": 115
        }
      ]
    },
    {
      "cell_type": "code",
      "metadata": {
        "id": "X6x9bHNi3VFv"
      },
      "source": [
        ""
      ],
      "execution_count": null,
      "outputs": []
    },
    {
      "cell_type": "code",
      "metadata": {
        "id": "i6jked0K8nQ8"
      },
      "source": [
        ""
      ],
      "execution_count": null,
      "outputs": []
    },
    {
      "cell_type": "code",
      "metadata": {
        "id": "lIH-dbtI8oyc"
      },
      "source": [
        ""
      ],
      "execution_count": null,
      "outputs": []
    }
  ]
}