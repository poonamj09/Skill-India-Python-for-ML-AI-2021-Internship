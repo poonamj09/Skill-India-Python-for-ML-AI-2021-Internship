{
  "nbformat": 4,
  "nbformat_minor": 0,
  "metadata": {
    "colab": {
      "name": "Purchasing_Products.ipynb",
      "provenance": [],
      "collapsed_sections": []
    },
    "kernelspec": {
      "name": "python3",
      "display_name": "Python 3"
    },
    "language_info": {
      "name": "python"
    }
  },
  "cells": [
    {
      "cell_type": "markdown",
      "metadata": {
        "id": "_mL9XvBz5rdv"
      },
      "source": [
        "### ***Read Inventory***"
      ]
    },
    {
      "cell_type": "code",
      "metadata": {
        "id": "Cikdzh4K49k9"
      },
      "source": [
        "import json\n",
        "\n",
        "fd = open(\"record.json\",'r')\n",
        "r = fd.read()\n",
        "fd.close()\n",
        "\n",
        "records = json.loads(r)"
      ],
      "execution_count": 494,
      "outputs": []
    },
    {
      "cell_type": "code",
      "metadata": {
        "colab": {
          "base_uri": "https://localhost:8080/"
        },
        "id": "wfH7uxsp5yY-",
        "outputId": "55333540-70e8-4b0e-951e-f190e839c8c1"
      },
      "source": [
        "records"
      ],
      "execution_count": 495,
      "outputs": [
        {
          "output_type": "execute_result",
          "data": {
            "text/plain": [
              "{'1001': {'category': 'Stationary', 'name': 'Pen', 'pr': 25, 'qn': 260},\n",
              " '1002': {'category': 'Stationary', 'name': 'Notebook', 'pr': 70, 'qn': 103},\n",
              " '1003': {'category': 'Stationary', 'name': 'Scissor', 'pr': 120, 'qn': 35},\n",
              " '1004': {'category': 'Stationary', 'name': 'Highlighter', 'pr': 50, 'qn': 60},\n",
              " '1005': {'category': 'Stationary', 'name': 'Paperclips', 'pr': 10, 'qn': 139},\n",
              " '1006': {'category': 'Stationary', 'name': 'Marker', 'pr': 85, 'qn': 88},\n",
              " '1007': {'category': 'Stationary', 'name': 'Folders', 'pr': 250, 'qn': 90},\n",
              " '1008': {'category': 'Stationary', 'name': 'Stapler', 'pr': 160, 'qn': 51},\n",
              " '1009': {'category': 'Stationary', 'name': 'Pencil', 'pr': 10, 'qn': 47},\n",
              " '1010': {'category': 'Stationary',\n",
              "  'name': 'Color Pencil',\n",
              "  'pr': 85,\n",
              "  'qn': 203},\n",
              " '1011': {'category': ' Cosmetic', 'name': 'Nailpaint', 'pr': 155, 'qn': 71},\n",
              " '1012': {'category': 'Cosmetic', 'name': 'Lipstick', 'pr': 250, 'qn': 58},\n",
              " '1013': {'category': 'Cosmetic',\n",
              "  'name': 'Compact Powder',\n",
              "  'pr': 269,\n",
              "  'qn': 79},\n",
              " '1014': {'category': 'Cosmetic', 'name': 'Kajal stick', 'pr': 279, 'qn': 64},\n",
              " '1015': {'category': 'Cosmetic', 'name': 'Maskara', 'pr': 489, 'qn': 72},\n",
              " '1016': {'category': 'Cosmetic', 'name': 'Eye liner', 'pr': 350, 'qn': 97},\n",
              " '1017': {'category': 'Cosmetic', 'name': 'Primer', 'pr': 680, 'qn': 24},\n",
              " '1018': {'category': 'Cosmetic', 'name': 'CC cream', 'pr': 390, 'qn': 45},\n",
              " '1019': {'category': 'Skincare', 'name': 'Moisturizer', 'pr': 650, 'qn': 24},\n",
              " '1020': {'category': 'Cosmetic', 'name': 'Concealer', 'pr': 310, 'qn': 64},\n",
              " '1021': {'category': 'Cosmetic',\n",
              "  'name': 'eyeshadhow pallate',\n",
              "  'pr': 1200,\n",
              "  'qn': 33},\n",
              " '1022': {'category': 'Hair Care', 'name': 'Shampoo', 'pr': 650, 'qn': 28},\n",
              " '1023': {'category': 'Hair care', 'name': 'Hair Serum', 'pr': 799, 'qn': 26},\n",
              " '1024': {'category': 'Skincare', 'name': 'Facewash', 'pr': 289, 'qn': 65},\n",
              " '1025': {'category': 'Skincare', 'name': 'Body Wash', 'pr': 500, 'qn': 62},\n",
              " '1026': {'category': 'Skincare', 'name': 'Face Mask', 'pr': 260, 'qn': 62},\n",
              " '1027': {'category': 'Baby Products',\n",
              "  'name': 'BabyLotion',\n",
              "  'pr': 625,\n",
              "  'qn': 98},\n",
              " '1028': {'category': 'Baby Products',\n",
              "  'name': 'Baby Shampoo',\n",
              "  'pr': 850,\n",
              "  'qn': 52},\n",
              " '1029': {'category': 'Baby Products',\n",
              "  'name': 'Baby Wash',\n",
              "  'pr': 658,\n",
              "  'qn': 27},\n",
              " '1030': {'category': 'Skincare',\n",
              "  'name': 'Sunscreen lotion',\n",
              "  'pr': 950,\n",
              "  'qn': 24},\n",
              " '1031': {'category': 'Stationary',\n",
              "  'name': 'Fabric Glue ',\n",
              "  'pr': 45,\n",
              "  'qn': 50},\n",
              " '1032': {'category': 'Stationary', 'name': 'Crayons', 'pr': 65, 'qn': 51}}"
            ]
          },
          "metadata": {},
          "execution_count": 495
        }
      ]
    },
    {
      "cell_type": "markdown",
      "metadata": {
        "id": "1rzbKD9e6V2r"
      },
      "source": [
        "### ***Purchase From Inventory*** "
      ]
    },
    {
      "cell_type": "code",
      "metadata": {
        "id": "V25mh5WmKHKd"
      },
      "source": [
        "import time\n",
        "t = time.ctime()"
      ],
      "execution_count": 496,
      "outputs": []
    },
    {
      "cell_type": "code",
      "metadata": {
        "colab": {
          "base_uri": "https://localhost:8080/"
        },
        "id": "B_5Y2JrE6N6I",
        "outputId": "1ef95b50-f693-42fd-f7d3-84a89140aa95"
      },
      "source": [
        "ui_prod  = str(input(\"Enter the product_Id: \"))\n",
        "ui_quant = int(input(\"Enter the quantity: \"))\n",
        "\n",
        "if (ui_prod in records.keys() and records[ui_prod]['qn']!=0 ) :\n",
        " \n",
        " if (ui_quant <= records[ui_prod]['qn']) :\n",
        "       print(\"************************************************\") \n",
        "       print(\"Product: \", records[ui_prod]['name'])\n",
        "       print(\"Price: \", records[ui_prod]['pr'])\n",
        "       print(\"------------------------------------------------\")\n",
        "       print(\"Billing Amount: \", records[ui_prod]['pr'] * ui_quant)\n",
        "       print(\"************************************************\")\n",
        "       print(\"Time:\",t)\n",
        "       records[ui_prod]['qn'] = records[ui_prod]['qn'] - ui_quant\n",
        " else :\n",
        "       print(\"Available Product Qauntity in Inventory is\", records[ui_prod]['qn'])\n",
        "       print(\"Please Renter the User requirement Quantity\")\n",
        "       \n",
        "else :\n",
        "   print(\"Product is Out of Stock\")"
      ],
      "execution_count": 497,
      "outputs": [
        {
          "output_type": "stream",
          "name": "stdout",
          "text": [
            "Enter the product_Id: 1004\n",
            "Enter the quantity: 1\n",
            "************************************************\n",
            "Product:  Highlighter\n",
            "Price:  50\n",
            "------------------------------------------------\n",
            "Billing Amount:  50\n",
            "************************************************\n",
            "Time: Mon Sep  6 10:46:20 2021\n"
          ]
        }
      ]
    },
    {
      "cell_type": "markdown",
      "metadata": {
        "id": "ptTP8Q9Z6pdr"
      },
      "source": [
        "### ***UPDATE INVENTORY AFTER PURCHASE***"
      ]
    },
    {
      "cell_type": "code",
      "metadata": {
        "id": "nN5IEdRQ6tnm"
      },
      "source": [
        "js = json.dumps(records)\n",
        "\n",
        "fd = open(\"record.json\",'w')\n",
        "fd.write(js)\n",
        "fd.close()"
      ],
      "execution_count": 505,
      "outputs": []
    },
    {
      "cell_type": "code",
      "metadata": {
        "colab": {
          "base_uri": "https://localhost:8080/"
        },
        "id": "4jdC8Nrp975N",
        "outputId": "8de14163-9523-4eb3-80e7-d789b2d019d4"
      },
      "source": [
        "records"
      ],
      "execution_count": 499,
      "outputs": [
        {
          "output_type": "execute_result",
          "data": {
            "text/plain": [
              "{'1001': {'category': 'Stationary', 'name': 'Pen', 'pr': 25, 'qn': 260},\n",
              " '1002': {'category': 'Stationary', 'name': 'Notebook', 'pr': 70, 'qn': 103},\n",
              " '1003': {'category': 'Stationary', 'name': 'Scissor', 'pr': 120, 'qn': 35},\n",
              " '1004': {'category': 'Stationary', 'name': 'Highlighter', 'pr': 50, 'qn': 59},\n",
              " '1005': {'category': 'Stationary', 'name': 'Paperclips', 'pr': 10, 'qn': 139},\n",
              " '1006': {'category': 'Stationary', 'name': 'Marker', 'pr': 85, 'qn': 88},\n",
              " '1007': {'category': 'Stationary', 'name': 'Folders', 'pr': 250, 'qn': 90},\n",
              " '1008': {'category': 'Stationary', 'name': 'Stapler', 'pr': 160, 'qn': 51},\n",
              " '1009': {'category': 'Stationary', 'name': 'Pencil', 'pr': 10, 'qn': 47},\n",
              " '1010': {'category': 'Stationary',\n",
              "  'name': 'Color Pencil',\n",
              "  'pr': 85,\n",
              "  'qn': 203},\n",
              " '1011': {'category': ' Cosmetic', 'name': 'Nailpaint', 'pr': 155, 'qn': 71},\n",
              " '1012': {'category': 'Cosmetic', 'name': 'Lipstick', 'pr': 250, 'qn': 58},\n",
              " '1013': {'category': 'Cosmetic',\n",
              "  'name': 'Compact Powder',\n",
              "  'pr': 269,\n",
              "  'qn': 79},\n",
              " '1014': {'category': 'Cosmetic', 'name': 'Kajal stick', 'pr': 279, 'qn': 64},\n",
              " '1015': {'category': 'Cosmetic', 'name': 'Maskara', 'pr': 489, 'qn': 72},\n",
              " '1016': {'category': 'Cosmetic', 'name': 'Eye liner', 'pr': 350, 'qn': 97},\n",
              " '1017': {'category': 'Cosmetic', 'name': 'Primer', 'pr': 680, 'qn': 24},\n",
              " '1018': {'category': 'Cosmetic', 'name': 'CC cream', 'pr': 390, 'qn': 45},\n",
              " '1019': {'category': 'Skincare', 'name': 'Moisturizer', 'pr': 650, 'qn': 24},\n",
              " '1020': {'category': 'Cosmetic', 'name': 'Concealer', 'pr': 310, 'qn': 64},\n",
              " '1021': {'category': 'Cosmetic',\n",
              "  'name': 'eyeshadhow pallate',\n",
              "  'pr': 1200,\n",
              "  'qn': 33},\n",
              " '1022': {'category': 'Hair Care', 'name': 'Shampoo', 'pr': 650, 'qn': 28},\n",
              " '1023': {'category': 'Hair care', 'name': 'Hair Serum', 'pr': 799, 'qn': 26},\n",
              " '1024': {'category': 'Skincare', 'name': 'Facewash', 'pr': 289, 'qn': 65},\n",
              " '1025': {'category': 'Skincare', 'name': 'Body Wash', 'pr': 500, 'qn': 62},\n",
              " '1026': {'category': 'Skincare', 'name': 'Face Mask', 'pr': 260, 'qn': 62},\n",
              " '1027': {'category': 'Baby Products',\n",
              "  'name': 'BabyLotion',\n",
              "  'pr': 625,\n",
              "  'qn': 98},\n",
              " '1028': {'category': 'Baby Products',\n",
              "  'name': 'Baby Shampoo',\n",
              "  'pr': 850,\n",
              "  'qn': 52},\n",
              " '1029': {'category': 'Baby Products',\n",
              "  'name': 'Baby Wash',\n",
              "  'pr': 658,\n",
              "  'qn': 27},\n",
              " '1030': {'category': 'Skincare',\n",
              "  'name': 'Sunscreen lotion',\n",
              "  'pr': 950,\n",
              "  'qn': 24},\n",
              " '1031': {'category': 'Stationary',\n",
              "  'name': 'Fabric Glue ',\n",
              "  'pr': 45,\n",
              "  'qn': 50},\n",
              " '1032': {'category': 'Stationary', 'name': 'Crayons', 'pr': 65, 'qn': 51}}"
            ]
          },
          "metadata": {},
          "execution_count": 499
        }
      ]
    },
    {
      "cell_type": "markdown",
      "metadata": {
        "id": "Eq-KBk0A-Jy7"
      },
      "source": [
        "### **Sales Transcation**"
      ]
    },
    {
      "cell_type": "code",
      "metadata": {
        "id": "GqxXGDVWdRl8"
      },
      "source": [
        "fd = open(\"sales.json\",'r')\n",
        "s= fd.read()\n",
        "fd.close()\n",
        "\n",
        "sales = json.loads(s)"
      ],
      "execution_count": 500,
      "outputs": []
    },
    {
      "cell_type": "code",
      "metadata": {
        "id": "MN6w-u0q-dUs"
      },
      "source": [
        "if (ui_prod in records.keys() and ui_quant <= records[ui_prod]['qn']):\n",
        "  {'prod' : ui_prod,'name': records[ui_prod]['name'], 'qn' : ui_quant, 'tr_time':t,'amount': records[ui_prod]['pr'] * ui_quant}\n",
        "  {(len(sales) + 1) : {'prod' : ui_prod,'name': records[ui_prod]['name'], 'qn' : ui_quant, 'tr_time':t,'amount': records[ui_prod]['pr'] * ui_quant}}\n",
        "\n",
        "  sales[(len(sales)+1)]= {'prod' : ui_prod, 'name': records[ui_prod]['name'],'qn' : ui_quant, 'tr_time':t, 'amount': records[ui_prod]['pr'] * ui_quant} \n",
        "else:print(\"No Sale Transaction\")        "
      ],
      "execution_count": 501,
      "outputs": []
    },
    {
      "cell_type": "code",
      "metadata": {
        "colab": {
          "base_uri": "https://localhost:8080/"
        },
        "id": "tf8tnWi9_Gwo",
        "outputId": "0714f3d6-1329-4573-cd2d-1e50cf1c112a"
      },
      "source": [
        "sales"
      ],
      "execution_count": 502,
      "outputs": [
        {
          "output_type": "execute_result",
          "data": {
            "text/plain": [
              "{'1': {'amount': 125,\n",
              "  'name': 'Pen',\n",
              "  'prod': '1001',\n",
              "  'qn': 5,\n",
              "  'tr_time': 'Mon Sep  6 09:31:11 2021'},\n",
              " '10': {'amount': 1000,\n",
              "  'name': 'Body Wash',\n",
              "  'prod': '1025',\n",
              "  'qn': 2,\n",
              "  'tr_time': 'Mon Sep  6 10:02:52 2021'},\n",
              " '11': {'amount': 1200,\n",
              "  'name': 'eyeshadhow pallate',\n",
              "  'prod': '1021',\n",
              "  'qn': 1,\n",
              "  'tr_time': 'Mon Sep  6 10:03:45 2021'},\n",
              " '12': {'amount': 650,\n",
              "  'name': 'Moisturizer',\n",
              "  'prod': '1019',\n",
              "  'qn': 1,\n",
              "  'tr_time': 'Mon Sep  6 10:05:23 2021'},\n",
              " '13': {'amount': 700,\n",
              "  'name': 'Eye liner',\n",
              "  'prod': '1016',\n",
              "  'qn': 2,\n",
              "  'tr_time': 'Mon Sep  6 10:06:41 2021'},\n",
              " '14': {'amount': 978,\n",
              "  'name': 'Maskara',\n",
              "  'prod': '1015',\n",
              "  'qn': 2,\n",
              "  'tr_time': 'Mon Sep  6 10:07:42 2021'},\n",
              " '15': {'amount': 680,\n",
              "  'name': 'Primer',\n",
              "  'prod': '1017',\n",
              "  'qn': 1,\n",
              "  'tr_time': 'Mon Sep  6 10:09:08 2021'},\n",
              " '16': {'amount': 489,\n",
              "  'name': 'Maskara',\n",
              "  'prod': '1015',\n",
              "  'qn': 1,\n",
              "  'tr_time': 'Mon Sep  6 10:09:48 2021'},\n",
              " '17': {'amount': 30,\n",
              "  'name': 'Pencil',\n",
              "  'prod': '1009',\n",
              "  'qn': 3,\n",
              "  'tr_time': 'Mon Sep  6 10:10:48 2021'},\n",
              " '18': {'amount': 1345,\n",
              "  'name': 'Compact Powder',\n",
              "  'prod': '1013',\n",
              "  'qn': 5,\n",
              "  'tr_time': 'Mon Sep  6 10:11:40 2021'},\n",
              " '19': {'amount': 640,\n",
              "  'name': 'Stapler',\n",
              "  'prod': '1008',\n",
              "  'qn': 4,\n",
              "  'tr_time': 'Mon Sep  6 10:12:35 2021'},\n",
              " '2': {'amount': 130,\n",
              "  'name': 'Crayons',\n",
              "  'prod': '1032',\n",
              "  'qn': 2,\n",
              "  'tr_time': 'Mon Sep  6 09:47:08 2021'},\n",
              " '20': {'amount': 155,\n",
              "  'name': 'Nailpaint',\n",
              "  'prod': '1011',\n",
              "  'qn': 1,\n",
              "  'tr_time': 'Mon Sep  6 10:13:23 2021'},\n",
              " '21': {'amount': 500,\n",
              "  'name': 'Lipstick',\n",
              "  'prod': '1012',\n",
              "  'qn': 2,\n",
              "  'tr_time': 'Mon Sep  6 10:14:08 2021'},\n",
              " '22': {'amount': 269,\n",
              "  'name': 'Compact Powder',\n",
              "  'prod': '1013',\n",
              "  'qn': 1,\n",
              "  'tr_time': 'Mon Sep  6 10:15:28 2021'},\n",
              " '23': {'amount': 558,\n",
              "  'name': 'Kajal stick',\n",
              "  'prod': '1014',\n",
              "  'qn': 2,\n",
              "  'tr_time': 'Mon Sep  6 10:16:09 2021'},\n",
              " '24': {'amount': 310,\n",
              "  'name': 'Concealer',\n",
              "  'prod': '1020',\n",
              "  'qn': 1,\n",
              "  'tr_time': 'Mon Sep  6 10:16:43 2021'},\n",
              " '25': {'amount': 1316,\n",
              "  'name': 'Baby Wash',\n",
              "  'prod': '1029',\n",
              "  'qn': 2,\n",
              "  'tr_time': 'Mon Sep  6 10:17:30 2021'},\n",
              " '26': {'amount': 1250,\n",
              "  'name': 'Folders',\n",
              "  'prod': '1007',\n",
              "  'qn': 5,\n",
              "  'tr_time': 'Mon Sep  6 10:18:01 2021'},\n",
              " '27': {'amount': 40,\n",
              "  'name': 'Paperclips',\n",
              "  'prod': '1005',\n",
              "  'qn': 4,\n",
              "  'tr_time': 'Mon Sep  6 10:18:31 2021'},\n",
              " '28': {'amount': 1250,\n",
              "  'name': 'BabyLotion',\n",
              "  'prod': '1027',\n",
              "  'qn': 2,\n",
              "  'tr_time': 'Mon Sep  6 10:19:15 2021'},\n",
              " '29': {'amount': 170,\n",
              "  'name': 'Marker',\n",
              "  'prod': '1006',\n",
              "  'qn': 2,\n",
              "  'tr_time': 'Mon Sep  6 10:20:32 2021'},\n",
              " '3': {'amount': 90,\n",
              "  'name': 'Fabric Glue ',\n",
              "  'prod': '1031',\n",
              "  'qn': 2,\n",
              "  'tr_time': 'Mon Sep  6 09:47:08 2021'},\n",
              " '30': {'amount': 60,\n",
              "  'name': 'Paperclips',\n",
              "  'prod': '1005',\n",
              "  'qn': 6,\n",
              "  'tr_time': 'Mon Sep  6 10:21:00 2021'},\n",
              " '31': {'amount': 325,\n",
              "  'name': 'Crayons',\n",
              "  'prod': '1032',\n",
              "  'qn': 5,\n",
              "  'tr_time': 'Mon Sep  6 10:30:50 2021'},\n",
              " 32: {'amount': 50,\n",
              "  'name': 'Highlighter',\n",
              "  'prod': '1004',\n",
              "  'qn': 1,\n",
              "  'tr_time': 'Mon Sep  6 10:46:20 2021'},\n",
              " '4': {'amount': 130,\n",
              "  'name': 'Crayons',\n",
              "  'prod': '1032',\n",
              "  'qn': 2,\n",
              "  'tr_time': 'Mon Sep  6 09:56:01 2021'},\n",
              " '5': {'amount': 210,\n",
              "  'name': 'Notebook',\n",
              "  'prod': '1002',\n",
              "  'qn': 3,\n",
              "  'tr_time': 'Mon Sep  6 09:57:11 2021'},\n",
              " '6': {'amount': 10,\n",
              "  'name': 'Paperclips',\n",
              "  'prod': '1005',\n",
              "  'qn': 1,\n",
              "  'tr_time': 'Mon Sep  6 09:58:34 2021'},\n",
              " '7': {'amount': 170,\n",
              "  'name': 'Color Pencil',\n",
              "  'prod': '1010',\n",
              "  'qn': 2,\n",
              "  'tr_time': 'Mon Sep  6 09:59:41 2021'},\n",
              " '8': {'amount': 1200,\n",
              "  'name': 'eyeshadhow pallate',\n",
              "  'prod': '1021',\n",
              "  'qn': 1,\n",
              "  'tr_time': 'Mon Sep  6 10:01:01 2021'},\n",
              " '9': {'amount': 140,\n",
              "  'name': 'Notebook',\n",
              "  'prod': '1002',\n",
              "  'qn': 2,\n",
              "  'tr_time': 'Mon Sep  6 10:01:54 2021'}}"
            ]
          },
          "metadata": {},
          "execution_count": 502
        }
      ]
    },
    {
      "cell_type": "code",
      "metadata": {
        "id": "IwsEcZ7L_Q9m"
      },
      "source": [
        "sale = json.dumps(sales)\n",
        "\n",
        "fd = open(\"sales.json\",'w')\n",
        "fd.write(sale)\n",
        "fd.close()"
      ],
      "execution_count": 506,
      "outputs": []
    },
    {
      "cell_type": "code",
      "metadata": {
        "id": "y-4qybiJ_c18",
        "colab": {
          "base_uri": "https://localhost:8080/"
        },
        "outputId": "70f220f3-e8b8-4aab-9dbe-05a7a47611ed"
      },
      "source": [
        "sales"
      ],
      "execution_count": 504,
      "outputs": [
        {
          "output_type": "execute_result",
          "data": {
            "text/plain": [
              "{'1': {'amount': 125,\n",
              "  'name': 'Pen',\n",
              "  'prod': '1001',\n",
              "  'qn': 5,\n",
              "  'tr_time': 'Mon Sep  6 09:31:11 2021'},\n",
              " '10': {'amount': 1000,\n",
              "  'name': 'Body Wash',\n",
              "  'prod': '1025',\n",
              "  'qn': 2,\n",
              "  'tr_time': 'Mon Sep  6 10:02:52 2021'},\n",
              " '11': {'amount': 1200,\n",
              "  'name': 'eyeshadhow pallate',\n",
              "  'prod': '1021',\n",
              "  'qn': 1,\n",
              "  'tr_time': 'Mon Sep  6 10:03:45 2021'},\n",
              " '12': {'amount': 650,\n",
              "  'name': 'Moisturizer',\n",
              "  'prod': '1019',\n",
              "  'qn': 1,\n",
              "  'tr_time': 'Mon Sep  6 10:05:23 2021'},\n",
              " '13': {'amount': 700,\n",
              "  'name': 'Eye liner',\n",
              "  'prod': '1016',\n",
              "  'qn': 2,\n",
              "  'tr_time': 'Mon Sep  6 10:06:41 2021'},\n",
              " '14': {'amount': 978,\n",
              "  'name': 'Maskara',\n",
              "  'prod': '1015',\n",
              "  'qn': 2,\n",
              "  'tr_time': 'Mon Sep  6 10:07:42 2021'},\n",
              " '15': {'amount': 680,\n",
              "  'name': 'Primer',\n",
              "  'prod': '1017',\n",
              "  'qn': 1,\n",
              "  'tr_time': 'Mon Sep  6 10:09:08 2021'},\n",
              " '16': {'amount': 489,\n",
              "  'name': 'Maskara',\n",
              "  'prod': '1015',\n",
              "  'qn': 1,\n",
              "  'tr_time': 'Mon Sep  6 10:09:48 2021'},\n",
              " '17': {'amount': 30,\n",
              "  'name': 'Pencil',\n",
              "  'prod': '1009',\n",
              "  'qn': 3,\n",
              "  'tr_time': 'Mon Sep  6 10:10:48 2021'},\n",
              " '18': {'amount': 1345,\n",
              "  'name': 'Compact Powder',\n",
              "  'prod': '1013',\n",
              "  'qn': 5,\n",
              "  'tr_time': 'Mon Sep  6 10:11:40 2021'},\n",
              " '19': {'amount': 640,\n",
              "  'name': 'Stapler',\n",
              "  'prod': '1008',\n",
              "  'qn': 4,\n",
              "  'tr_time': 'Mon Sep  6 10:12:35 2021'},\n",
              " '2': {'amount': 130,\n",
              "  'name': 'Crayons',\n",
              "  'prod': '1032',\n",
              "  'qn': 2,\n",
              "  'tr_time': 'Mon Sep  6 09:47:08 2021'},\n",
              " '20': {'amount': 155,\n",
              "  'name': 'Nailpaint',\n",
              "  'prod': '1011',\n",
              "  'qn': 1,\n",
              "  'tr_time': 'Mon Sep  6 10:13:23 2021'},\n",
              " '21': {'amount': 500,\n",
              "  'name': 'Lipstick',\n",
              "  'prod': '1012',\n",
              "  'qn': 2,\n",
              "  'tr_time': 'Mon Sep  6 10:14:08 2021'},\n",
              " '22': {'amount': 269,\n",
              "  'name': 'Compact Powder',\n",
              "  'prod': '1013',\n",
              "  'qn': 1,\n",
              "  'tr_time': 'Mon Sep  6 10:15:28 2021'},\n",
              " '23': {'amount': 558,\n",
              "  'name': 'Kajal stick',\n",
              "  'prod': '1014',\n",
              "  'qn': 2,\n",
              "  'tr_time': 'Mon Sep  6 10:16:09 2021'},\n",
              " '24': {'amount': 310,\n",
              "  'name': 'Concealer',\n",
              "  'prod': '1020',\n",
              "  'qn': 1,\n",
              "  'tr_time': 'Mon Sep  6 10:16:43 2021'},\n",
              " '25': {'amount': 1316,\n",
              "  'name': 'Baby Wash',\n",
              "  'prod': '1029',\n",
              "  'qn': 2,\n",
              "  'tr_time': 'Mon Sep  6 10:17:30 2021'},\n",
              " '26': {'amount': 1250,\n",
              "  'name': 'Folders',\n",
              "  'prod': '1007',\n",
              "  'qn': 5,\n",
              "  'tr_time': 'Mon Sep  6 10:18:01 2021'},\n",
              " '27': {'amount': 40,\n",
              "  'name': 'Paperclips',\n",
              "  'prod': '1005',\n",
              "  'qn': 4,\n",
              "  'tr_time': 'Mon Sep  6 10:18:31 2021'},\n",
              " '28': {'amount': 1250,\n",
              "  'name': 'BabyLotion',\n",
              "  'prod': '1027',\n",
              "  'qn': 2,\n",
              "  'tr_time': 'Mon Sep  6 10:19:15 2021'},\n",
              " '29': {'amount': 170,\n",
              "  'name': 'Marker',\n",
              "  'prod': '1006',\n",
              "  'qn': 2,\n",
              "  'tr_time': 'Mon Sep  6 10:20:32 2021'},\n",
              " '3': {'amount': 90,\n",
              "  'name': 'Fabric Glue ',\n",
              "  'prod': '1031',\n",
              "  'qn': 2,\n",
              "  'tr_time': 'Mon Sep  6 09:47:08 2021'},\n",
              " '30': {'amount': 60,\n",
              "  'name': 'Paperclips',\n",
              "  'prod': '1005',\n",
              "  'qn': 6,\n",
              "  'tr_time': 'Mon Sep  6 10:21:00 2021'},\n",
              " '31': {'amount': 325,\n",
              "  'name': 'Crayons',\n",
              "  'prod': '1032',\n",
              "  'qn': 5,\n",
              "  'tr_time': 'Mon Sep  6 10:30:50 2021'},\n",
              " 32: {'amount': 50,\n",
              "  'name': 'Highlighter',\n",
              "  'prod': '1004',\n",
              "  'qn': 1,\n",
              "  'tr_time': 'Mon Sep  6 10:46:20 2021'},\n",
              " '4': {'amount': 130,\n",
              "  'name': 'Crayons',\n",
              "  'prod': '1032',\n",
              "  'qn': 2,\n",
              "  'tr_time': 'Mon Sep  6 09:56:01 2021'},\n",
              " '5': {'amount': 210,\n",
              "  'name': 'Notebook',\n",
              "  'prod': '1002',\n",
              "  'qn': 3,\n",
              "  'tr_time': 'Mon Sep  6 09:57:11 2021'},\n",
              " '6': {'amount': 10,\n",
              "  'name': 'Paperclips',\n",
              "  'prod': '1005',\n",
              "  'qn': 1,\n",
              "  'tr_time': 'Mon Sep  6 09:58:34 2021'},\n",
              " '7': {'amount': 170,\n",
              "  'name': 'Color Pencil',\n",
              "  'prod': '1010',\n",
              "  'qn': 2,\n",
              "  'tr_time': 'Mon Sep  6 09:59:41 2021'},\n",
              " '8': {'amount': 1200,\n",
              "  'name': 'eyeshadhow pallate',\n",
              "  'prod': '1021',\n",
              "  'qn': 1,\n",
              "  'tr_time': 'Mon Sep  6 10:01:01 2021'},\n",
              " '9': {'amount': 140,\n",
              "  'name': 'Notebook',\n",
              "  'prod': '1002',\n",
              "  'qn': 2,\n",
              "  'tr_time': 'Mon Sep  6 10:01:54 2021'}}"
            ]
          },
          "metadata": {},
          "execution_count": 504
        }
      ]
    }
  ]
}